Inversion methods applied to hinode data.
